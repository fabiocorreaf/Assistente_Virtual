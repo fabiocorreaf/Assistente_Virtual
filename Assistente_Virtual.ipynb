{
  "nbformat": 4,
  "nbformat_minor": 0,
  "metadata": {
    "colab": {
      "provenance": [],
      "gpuType": "T4",
      "authorship_tag": "ABX9TyMY2aGcItk+7VfmPub+5J4X",
      "include_colab_link": true
    },
    "kernelspec": {
      "name": "python3",
      "display_name": "Python 3"
    },
    "language_info": {
      "name": "python"
    },
    "accelerator": "GPU"
  },
  "cells": [
    {
      "cell_type": "markdown",
      "metadata": {
        "id": "view-in-github",
        "colab_type": "text"
      },
      "source": [
        "<a href=\"https://colab.research.google.com/github/fabiocorreaf/Assistente_Virtual/blob/main/Assistente_Virtual.ipynb\" target=\"_parent\"><img src=\"https://colab.research.google.com/assets/colab-badge.svg\" alt=\"Open In Colab\"/></a>"
      ]
    },
    {
      "cell_type": "code",
      "source": [
        "!pip install git+https://github.com/openai/whisper.git\n",
        "!pip install gtts\n",
        "!pip install wikipedia\n",
        "!pip install pyjokes\n",
        "!pip install winshell\n",
        "!pip install pygame"
      ],
      "metadata": {
        "id": "tF19UWmna9wR"
      },
      "execution_count": null,
      "outputs": []
    },
    {
      "source": [
        "from gtts import gTTS\n",
        "from IPython.display import Audio, display\n",
        "from io import BytesIO\n",
        "\n",
        "def speak(texto=''):\n",
        "  lingua = \"en\"\n",
        "  arquivo = gTTS(text=texto, lang=lingua, slow=True)\n",
        "  mp3_fp = BytesIO()\n",
        "  arquivo.write_to_fp(mp3_fp)\n",
        "  mp3_fp.seek(0)\n",
        "  display(Audio(mp3_fp.read(), rate=22050, autoplay=True))"
      ],
      "cell_type": "code",
      "metadata": {
        "id": "-4UMca0FxjpX"
      },
      "execution_count": 2,
      "outputs": []
    },
    {
      "cell_type": "code",
      "source": [
        "from gtts import gTTS\n",
        "from IPython.display import Audio, display\n",
        "import whisper\n",
        "import base64\n",
        "import os\n",
        "import datetime\n",
        "from google.colab import output\n",
        "from IPython.display import display, HTML\n",
        "import time\n",
        "transcricao = None\n",
        "\n",
        "def record_audio():\n",
        "    \"\"\"Exibe os botões de gravação e processa o áudio gravado no Colab.\"\"\"\n",
        "    display(HTML('''\n",
        "        <script>\n",
        "            var audioStream;\n",
        "            var audioRecorder;\n",
        "            var audioData = [];\n",
        "\n",
        "            async function startRecording() {\n",
        "                const stream = await navigator.mediaDevices.getUserMedia({ audio: true });\n",
        "                audioStream = stream;\n",
        "                audioRecorder = new MediaRecorder(stream);\n",
        "\n",
        "                audioRecorder.ondataavailable = function(event) {\n",
        "                    audioData.push(event.data);\n",
        "                };\n",
        "\n",
        "                audioRecorder.onstop = function() {\n",
        "                    const blob = new Blob(audioData, { type: 'audio/wav' });\n",
        "\n",
        "                    // Converte para Data URL e envia para o Python\n",
        "                    const reader = new FileReader();\n",
        "                    reader.readAsDataURL(blob);\n",
        "                    reader.onloadend = function() {\n",
        "                        const dataUrl = reader.result;\n",
        "                        google.colab.kernel.invokeFunction('process_audio', [dataUrl], {});\n",
        "                    };\n",
        "                };\n",
        "\n",
        "                audioRecorder.start();\n",
        "                document.getElementById(\"startButton\").disabled = true;\n",
        "                document.getElementById(\"stopButton\").disabled = false;\n",
        "            }\n",
        "\n",
        "            function stopRecording() {\n",
        "                audioRecorder.stop();\n",
        "                audioStream.getTracks().forEach(track => track.stop());\n",
        "                document.getElementById(\"stopButton\").disabled = true;\n",
        "            }\n",
        "        </script>\n",
        "\n",
        "        <button id=\"startButton\" onclick=\"startRecording()\">🎙️ Iniciar Gravação</button>\n",
        "        <button id=\"stopButton\" onclick=\"stopRecording()\" disabled>⏹️ Parar Gravação</button>\n",
        "    '''))\n",
        "\n",
        "def process_audio(data_url):\n",
        "    \"\"\"Salva o áudio no Colab, transcreve e exibe o texto.\"\"\"\n",
        "    header, encoded = data_url.split(\",\", 1)\n",
        "    data = base64.b64decode(encoded)\n",
        "\n",
        "    # Nome do arquivo baseado no timestamp\n",
        "    timestamp = datetime.datetime.now().strftime(\"%Y%m%d%H%M%S\")\n",
        "    filename = f\"audio_{timestamp}.wav\"\n",
        "    filepath = os.path.join(\"/content/\", filename)\n",
        "\n",
        "    with open(filepath, \"wb\") as f:\n",
        "        f.write(data)\n",
        "\n",
        "    print(f\"✅ Áudio salvo como: {filename}\")\n",
        "\n",
        "    # Carrega o modelo Whisper para transcrição\n",
        "    model = whisper.load_model(\"base\")\n",
        "    result = model.transcribe(filepath)\n",
        "\n",
        "    text = result[\"text\"]\n",
        "\n",
        "    # Exibe a transcrição imediatamente\n",
        "    print(\"\\n🎤 **Transcrição:\", text )\n",
        "    return text\n",
        "\n",
        "# Registra a função de processamento para ser chamada pelo JavaScript\n",
        "output.register_callback('process_audio', process_audio)\n",
        "\n",
        "# Exibe os botões para iniciar a gravação\n",
        "record_audio()\n",
        "\n"
      ],
      "metadata": {
        "colab": {
          "base_uri": "https://localhost:8080/",
          "height": 147
        },
        "id": "4S9-ZdWq9U7G",
        "outputId": "170b7179-84d6-453a-e067-36cc7e60436a"
      },
      "execution_count": 3,
      "outputs": [
        {
          "output_type": "display_data",
          "data": {
            "text/plain": [
              "<IPython.core.display.HTML object>"
            ],
            "text/html": [
              "\n",
              "        <script>\n",
              "            var audioStream;\n",
              "            var audioRecorder;\n",
              "            var audioData = [];\n",
              "\n",
              "            async function startRecording() {\n",
              "                const stream = await navigator.mediaDevices.getUserMedia({ audio: true });\n",
              "                audioStream = stream;\n",
              "                audioRecorder = new MediaRecorder(stream);\n",
              "\n",
              "                audioRecorder.ondataavailable = function(event) {\n",
              "                    audioData.push(event.data);\n",
              "                };\n",
              "\n",
              "                audioRecorder.onstop = function() {\n",
              "                    const blob = new Blob(audioData, { type: 'audio/wav' });\n",
              "\n",
              "                    // Converte para Data URL e envia para o Python\n",
              "                    const reader = new FileReader();\n",
              "                    reader.readAsDataURL(blob);\n",
              "                    reader.onloadend = function() {\n",
              "                        const dataUrl = reader.result;\n",
              "                        google.colab.kernel.invokeFunction('process_audio', [dataUrl], {}); \n",
              "                    };\n",
              "                };\n",
              "\n",
              "                audioRecorder.start();\n",
              "                document.getElementById(\"startButton\").disabled = true;\n",
              "                document.getElementById(\"stopButton\").disabled = false;\n",
              "            }\n",
              "\n",
              "            function stopRecording() {\n",
              "                audioRecorder.stop();\n",
              "                audioStream.getTracks().forEach(track => track.stop());\n",
              "                document.getElementById(\"stopButton\").disabled = true;\n",
              "            }\n",
              "        </script>\n",
              "\n",
              "        <button id=\"startButton\" onclick=\"startRecording()\">🎙️ Iniciar Gravação</button>\n",
              "        <button id=\"stopButton\" onclick=\"stopRecording()\" disabled>⏹️ Parar Gravação</button>\n",
              "    "
            ]
          },
          "metadata": {}
        },
        {
          "output_type": "stream",
          "name": "stdout",
          "text": [
            "✅ Áudio salvo como: audio_20250222002613.wav\n"
          ]
        },
        {
          "output_type": "stream",
          "name": "stderr",
          "text": [
            "/usr/local/lib/python3.11/dist-packages/whisper/__init__.py:150: FutureWarning: You are using `torch.load` with `weights_only=False` (the current default value), which uses the default pickle module implicitly. It is possible to construct malicious pickle data which will execute arbitrary code during unpickling (See https://github.com/pytorch/pytorch/blob/main/SECURITY.md#untrusted-models for more details). In a future release, the default value for `weights_only` will be flipped to `True`. This limits the functions that could be executed during unpickling. Arbitrary objects will no longer be allowed to be loaded via this mode unless they are explicitly allowlisted by the user via `torch.serialization.add_safe_globals`. We recommend you start setting `weights_only=True` for any use case where you don't have full control of the loaded file. Please open an issue on GitHub for any issues related to this experimental feature.\n",
            "  checkpoint = torch.load(fp, map_location=device)\n"
          ]
        },
        {
          "output_type": "stream",
          "name": "stdout",
          "text": [
            "\n",
            "🎤 **Transcrição:  Bom dia!\n"
          ]
        }
      ]
    },
    {
      "cell_type": "code",
      "source": [
        "\n",
        "def respond(transcricao):\n",
        "  while transcricao == None:\n",
        "    time.sleep = (1)\n",
        "    speak(\"Text from get audio \" + transcricao)\n",
        "    if 'youtube' in transcricao:\n",
        "        speak(\"What do you want to search for?\")\n",
        "        keyword = record_audio()\n",
        "        if keyword!= '':\n",
        "            url = f\"https://www.youtube.com/results?search_query={keyword}\"\n",
        "            webbrowser.get().open(url)\n",
        "            speak(f\"Here is what I have found for {keyword} on youtube\")\n",
        "    elif 'search' in transcricao:\n",
        "        speak(\"What do you want to search for?\")\n",
        "        query = record_audio()\n",
        "        if query !='':\n",
        "            result = wikipedia.summary(query, sentences=3)\n",
        "            speak(\"According to wikipedia\")\n",
        "            print(result)\n",
        "            speak(result)\n",
        "    elif 'joke' in transcricao:\n",
        "        speak(pyjokes.get_joke())\n",
        "    elif 'empty recycle bin' in transcricao:\n",
        "        winshell.recycle_bin().empty(confirm=False, show_progress=False, sound=True)\n",
        "        speak(\"Recycle bin emptied\")\n",
        "    elif 'what time' in transcricao:\n",
        "        strTime = datetime.today().strftime(\"%H:%M %p\")\n",
        "        print(strTime)\n",
        "        speak(strTime)\n",
        "    elif 'play music' in transcricao or 'play song' in transcricao:\n",
        "        speak(\"Now playing...\")\n",
        "        music_dir = \"C:\\\\Users\\\\UserName\\\\Downloads\\\\Music\\\\\" #add your music directory here..\n",
        "        songs = os.listdir(music_dir)\n",
        "        #counter = 0\n",
        "        print(songs)\n",
        "        playmusic(music_dir + \"\\\\\" + songs[0])\n",
        "    elif 'stop music' in transcricao:\n",
        "        speak(\"Stopping playback.\")\n",
        "        stopmusic()\n",
        "    elif 'exit' in transcricao:\n",
        "        speak(\"Goodbye, till next time\")\n",
        "        exit()\n",
        "    elif TypeError:\n",
        "      pass\n",
        "#play music\n",
        "def playmusic(song):\n",
        "    mixer.init()\n",
        "    mixer.music.load(song)\n",
        "    mixer.music.play()\n",
        "#stop music\n",
        "def stopmusic():\n",
        "    mixer.music.stop()\n",
        "    #let's try it\n",
        "#text = get_audio()\n",
        "#speak(text)\n",
        "while True:\n",
        "    speak(\"I am listening...\")\n",
        "    transcricao = record_audio()\n",
        "    respond(transcricao)"
      ],
      "metadata": {
        "id": "YUL7lvtKiBWv"
      },
      "execution_count": null,
      "outputs": []
    }
  ]
}